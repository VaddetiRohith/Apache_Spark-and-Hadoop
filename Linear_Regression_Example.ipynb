{
  "cells": [
    {
      "cell_type": "markdown",
      "metadata": {
        "id": "view-in-github",
        "colab_type": "text"
      },
      "source": [
        "<a href=\"https://colab.research.google.com/github/VaddetiRohith/Apache_Spark-and-Hadoop/blob/main/Linear_Regression_Example.ipynb\" target=\"_parent\"><img src=\"https://colab.research.google.com/assets/colab-badge.svg\" alt=\"Open In Colab\"/></a>"
      ]
    },
    {
      "cell_type": "markdown",
      "metadata": {
        "id": "eekzcg3dUyeJ"
      },
      "source": [
        "# Linear Regression Example\n",
        "\n",
        "Let's walk through the steps of the official documentation example. Doing this will help your ability to read from the documentation, understand it, and then apply it to your own problems (the upcoming Consulting Project)."
      ]
    },
    {
      "cell_type": "code",
      "execution_count": 1,
      "metadata": {
        "collapsed": true,
        "colab": {
          "base_uri": "https://localhost:8080/"
        },
        "id": "Qh9azrkDUyeM",
        "outputId": "b11ae643-7f05-4f43-e9e5-4222c696b220"
      },
      "outputs": [
        {
          "output_type": "stream",
          "name": "stdout",
          "text": [
            "Looking in indexes: https://pypi.org/simple, https://us-python.pkg.dev/colab-wheels/public/simple/\n",
            "Collecting pyspark\n",
            "  Downloading pyspark-3.3.1.tar.gz (281.4 MB)\n",
            "\u001b[K     |████████████████████████████████| 281.4 MB 43 kB/s \n",
            "\u001b[?25hCollecting py4j==0.10.9.5\n",
            "  Downloading py4j-0.10.9.5-py2.py3-none-any.whl (199 kB)\n",
            "\u001b[K     |████████████████████████████████| 199 kB 51.1 MB/s \n",
            "\u001b[?25hBuilding wheels for collected packages: pyspark\n",
            "  Building wheel for pyspark (setup.py) ... \u001b[?25l\u001b[?25hdone\n",
            "  Created wheel for pyspark: filename=pyspark-3.3.1-py2.py3-none-any.whl size=281845512 sha256=0c21a8bc62e409284102be8b2b5263da2e9138c14de8e280841ae7a2376ecd3a\n",
            "  Stored in directory: /root/.cache/pip/wheels/43/dc/11/ec201cd671da62fa9c5cc77078235e40722170ceba231d7598\n",
            "Successfully built pyspark\n",
            "Installing collected packages: py4j, pyspark\n",
            "Successfully installed py4j-0.10.9.5 pyspark-3.3.1\n"
          ]
        }
      ],
      "source": [
        "!pip install pyspark\n",
        "from pyspark.sql import SparkSession"
      ]
    },
    {
      "cell_type": "code",
      "execution_count": 2,
      "metadata": {
        "collapsed": true,
        "id": "5azcFVIlUyeN"
      },
      "outputs": [],
      "source": [
        "spark = SparkSession.builder.appName('lr_example').getOrCreate()"
      ]
    },
    {
      "cell_type": "code",
      "execution_count": 3,
      "metadata": {
        "collapsed": true,
        "id": "afd2IHpbUyeN"
      },
      "outputs": [],
      "source": [
        "from pyspark.ml.regression import LinearRegression"
      ]
    },
    {
      "cell_type": "code",
      "execution_count": 4,
      "metadata": {
        "collapsed": true,
        "id": "Y0MyNIb9UyeO"
      },
      "outputs": [],
      "source": [
        "# Load training data\n",
        "training = spark.read.format(\"libsvm\").load(\"sample_linear_regression_data.txt\")"
      ]
    },
    {
      "cell_type": "markdown",
      "metadata": {
        "id": "Vrvp1IA7UyeO"
      },
      "source": [
        "Interesting! We haven't seen libsvm formats before. In fact the aren't very popular when working with datasets in Python, but the Spark Documentation makes use of them a lot because of their formatting. Let's see what the training data looks like:"
      ]
    },
    {
      "cell_type": "code",
      "execution_count": 5,
      "metadata": {
        "colab": {
          "base_uri": "https://localhost:8080/"
        },
        "id": "hd6o8HfVUyeO",
        "outputId": "3b9c4f09-2275-4aad-86e0-46e41e9185e0"
      },
      "outputs": [
        {
          "output_type": "stream",
          "name": "stdout",
          "text": [
            "+-------------------+--------------------+\n",
            "|              label|            features|\n",
            "+-------------------+--------------------+\n",
            "| -9.490009878824548|(10,[0,1,2,3,4,5,...|\n",
            "| 0.2577820163584905|(10,[0,1,2,3,4,5,...|\n",
            "| -4.438869807456516|(10,[0,1,2,3,4,5,...|\n",
            "|-19.782762789614537|(10,[0,1,2,3,4,5,...|\n",
            "| -7.966593841555266|(10,[0,1,2,3,4,5,...|\n",
            "| -7.896274316726144|(10,[0,1,2,3,4,5,...|\n",
            "| -8.464803554195287|(10,[0,1,2,3,4,5,...|\n",
            "| 2.1214592666251364|(10,[0,1,2,3,4,5,...|\n",
            "| 1.0720117616524107|(10,[0,1,2,3,4,5,...|\n",
            "|-13.772441561702871|(10,[0,1,2,3,4,5,...|\n",
            "| -5.082010756207233|(10,[0,1,2,3,4,5,...|\n",
            "|  7.887786536531237|(10,[0,1,2,3,4,5,...|\n",
            "| 14.323146365332388|(10,[0,1,2,3,4,5,...|\n",
            "|-20.057482615789212|(10,[0,1,2,3,4,5,...|\n",
            "|-0.8995693247765151|(10,[0,1,2,3,4,5,...|\n",
            "| -19.16829262296376|(10,[0,1,2,3,4,5,...|\n",
            "|  5.601801561245534|(10,[0,1,2,3,4,5,...|\n",
            "|-3.2256352187273354|(10,[0,1,2,3,4,5,...|\n",
            "| 1.5299675726687754|(10,[0,1,2,3,4,5,...|\n",
            "| -0.250102447941961|(10,[0,1,2,3,4,5,...|\n",
            "+-------------------+--------------------+\n",
            "only showing top 20 rows\n",
            "\n"
          ]
        }
      ],
      "source": [
        "training.show()"
      ]
    },
    {
      "cell_type": "markdown",
      "metadata": {
        "id": "xvrPhHytUyeP"
      },
      "source": [
        "This is the format that Spark expects. Two columns with the names \"label\" and \"features\". \n",
        "\n",
        "The \"label\" column then needs to have the numerical label, either a regression numerical value, or a numerical value that matches to a classification grouping. Later on we will talk about unsupervised learning algorithms that by their nature do not use or require a label.\n",
        "\n",
        "The feature column has inside of it a vector of all the features that belong to that row. Usually what we end up doing is combining the various feature columns we have into a single 'features' column using the data transformations we've learned about.\n",
        "\n",
        "Let's continue working through this simple example!"
      ]
    },
    {
      "cell_type": "code",
      "execution_count": 6,
      "metadata": {
        "collapsed": true,
        "id": "yECnYJZQUyeP"
      },
      "outputs": [],
      "source": [
        "# These are the default values for the featuresCol, labelCol, predictionCol\n",
        "lr = LinearRegression(featuresCol='features', labelCol='label', predictionCol='prediction')\n",
        "\n",
        "# You could also pass in additional parameters for regularization, do the reading \n",
        "# in ISLR to fully understand that, after that its just some simple parameter calls.\n",
        "# Check the documentation with Shift+Tab for more info!"
      ]
    },
    {
      "cell_type": "code",
      "execution_count": 7,
      "metadata": {
        "collapsed": true,
        "id": "tSAI4O54UyeP"
      },
      "outputs": [],
      "source": [
        "# Fit the model\n",
        "lrModel = lr.fit(training)"
      ]
    },
    {
      "cell_type": "code",
      "execution_count": 8,
      "metadata": {
        "colab": {
          "base_uri": "https://localhost:8080/"
        },
        "id": "U5LfuW6wUyeQ",
        "outputId": "a7d15153-ecfc-4891-aa14-d64757a2795f"
      },
      "outputs": [
        {
          "output_type": "stream",
          "name": "stdout",
          "text": [
            "Coefficients: [0.0073350710225801715,0.8313757584337543,-0.8095307954684084,2.441191686884721,0.5191713795290002,1.1534591903547016,-0.2989124112808717,-0.5128514186201779,-0.619712827067017,0.695615180432293]\n",
            "\n",
            "\n",
            "Intercept:0.14228558260358093\n"
          ]
        }
      ],
      "source": [
        "# Print the coefficients and intercept for linear regression\n",
        "print(\"Coefficients: {}\".format(str(lrModel.coefficients))) # For each feature...\n",
        "print('\\n')\n",
        "print(\"Intercept:{}\".format(str(lrModel.intercept)))"
      ]
    },
    {
      "cell_type": "markdown",
      "metadata": {
        "id": "rBdd30-lUyeQ"
      },
      "source": [
        "There is a summary attribute that contains even more info!"
      ]
    },
    {
      "cell_type": "code",
      "execution_count": 9,
      "metadata": {
        "collapsed": true,
        "id": "quORtX58UyeQ"
      },
      "outputs": [],
      "source": [
        "# Summarize the model over the training set and print out some metrics\n",
        "trainingSummary = lrModel.summary"
      ]
    },
    {
      "cell_type": "markdown",
      "metadata": {
        "id": "J_3N9H9WUyeQ"
      },
      "source": [
        "Lots of info, here are a few examples:"
      ]
    },
    {
      "cell_type": "code",
      "execution_count": 10,
      "metadata": {
        "colab": {
          "base_uri": "https://localhost:8080/"
        },
        "id": "3xHPjq3aUyeR",
        "outputId": "7a324c25-7596-4a76-8ef2-d65579367fcc"
      },
      "outputs": [
        {
          "output_type": "stream",
          "name": "stdout",
          "text": [
            "+-------------------+\n",
            "|          residuals|\n",
            "+-------------------+\n",
            "|-11.011130022096554|\n",
            "| 0.9236590911176535|\n",
            "|-4.5957401897776675|\n",
            "|  -20.4201774575836|\n",
            "|-10.339160314788181|\n",
            "|-5.9552091439610555|\n",
            "|-10.726906349283922|\n",
            "| 2.1228071931912336|\n",
            "|  4.077122222293811|\n",
            "|-17.316168071241652|\n",
            "| -4.593044343959059|\n",
            "|  6.380476690746936|\n",
            "| 11.320566035059846|\n",
            "|-20.721971774534094|\n",
            "| -2.736692773777401|\n",
            "| -16.66886934252847|\n",
            "|  8.242186378876315|\n",
            "|-1.3723486332690233|\n",
            "|-0.7060332131264666|\n",
            "|-1.1591135969994064|\n",
            "+-------------------+\n",
            "only showing top 20 rows\n",
            "\n",
            "RMSE: 10.16309157133015\n",
            "r2: 0.027839179518600154\n"
          ]
        }
      ],
      "source": [
        "trainingSummary.residuals.show()\n",
        "print(\"RMSE: {}\".format(trainingSummary.rootMeanSquaredError))\n",
        "print(\"r2: {}\".format(trainingSummary.r2))"
      ]
    },
    {
      "cell_type": "markdown",
      "metadata": {
        "id": "HuQLAEeYUyeR"
      },
      "source": [
        "## Train/Test Splits\n",
        "\n",
        "But wait! We've commited a big mistake, we never separated our data set into a training and test set. Instead we trained on ALL of the data, something we generally want to avoid doing. Read ISLR and check out the theory lecture for more info on this, but remember we won't get a fair evaluation of our model by judging how well it does again on the same data it was trained on!\n",
        "\n",
        "Luckily Spark DataFrames have an almost too convienent method of splitting the data! Let's see it:"
      ]
    },
    {
      "cell_type": "code",
      "execution_count": 11,
      "metadata": {
        "collapsed": true,
        "id": "zqN6dcqMUyeR"
      },
      "outputs": [],
      "source": [
        "all_data = spark.read.format(\"libsvm\").load(\"sample_linear_regression_data.txt\")"
      ]
    },
    {
      "cell_type": "code",
      "execution_count": 12,
      "metadata": {
        "id": "KO160IpqUyeR"
      },
      "outputs": [],
      "source": [
        "# Pass in the split between training/test as a list.\n",
        "# No correct, but generally 70/30 or 60/40 splits are used. \n",
        "# Depending on how much data you have and how unbalanced it is.\n",
        "train_data,test_data = all_data.randomSplit([0.7,0.3])"
      ]
    },
    {
      "cell_type": "code",
      "execution_count": 13,
      "metadata": {
        "colab": {
          "base_uri": "https://localhost:8080/"
        },
        "id": "fLw6iGEgUyeR",
        "outputId": "ffa4e8b4-e456-4cee-cd25-82982f7c8549"
      },
      "outputs": [
        {
          "output_type": "stream",
          "name": "stdout",
          "text": [
            "+-------------------+--------------------+\n",
            "|              label|            features|\n",
            "+-------------------+--------------------+\n",
            "|-28.571478869743427|(10,[0,1,2,3,4,5,...|\n",
            "|-26.805483428483072|(10,[0,1,2,3,4,5,...|\n",
            "|-26.736207182601724|(10,[0,1,2,3,4,5,...|\n",
            "| -23.51088409032297|(10,[0,1,2,3,4,5,...|\n",
            "|-23.487440120936512|(10,[0,1,2,3,4,5,...|\n",
            "|-22.949825936196074|(10,[0,1,2,3,4,5,...|\n",
            "|-22.837460416919342|(10,[0,1,2,3,4,5,...|\n",
            "|-20.057482615789212|(10,[0,1,2,3,4,5,...|\n",
            "|-19.884560774273424|(10,[0,1,2,3,4,5,...|\n",
            "|-19.782762789614537|(10,[0,1,2,3,4,5,...|\n",
            "|-19.402336030214553|(10,[0,1,2,3,4,5,...|\n",
            "| -19.16829262296376|(10,[0,1,2,3,4,5,...|\n",
            "|-18.845922472898582|(10,[0,1,2,3,4,5,...|\n",
            "| -18.27521356600463|(10,[0,1,2,3,4,5,...|\n",
            "|-17.803626188664516|(10,[0,1,2,3,4,5,...|\n",
            "|-17.494200356883344|(10,[0,1,2,3,4,5,...|\n",
            "|-17.428674570939506|(10,[0,1,2,3,4,5,...|\n",
            "| -17.32672073267595|(10,[0,1,2,3,4,5,...|\n",
            "|-17.065399625876015|(10,[0,1,2,3,4,5,...|\n",
            "|-17.026492264209548|(10,[0,1,2,3,4,5,...|\n",
            "+-------------------+--------------------+\n",
            "only showing top 20 rows\n",
            "\n"
          ]
        }
      ],
      "source": [
        "train_data.show()"
      ]
    },
    {
      "cell_type": "code",
      "execution_count": 14,
      "metadata": {
        "colab": {
          "base_uri": "https://localhost:8080/"
        },
        "id": "A0FFNnXOUyeS",
        "outputId": "1fe3a11f-152f-4593-b47c-95436d5d3727"
      },
      "outputs": [
        {
          "output_type": "stream",
          "name": "stdout",
          "text": [
            "+-------------------+--------------------+\n",
            "|              label|            features|\n",
            "+-------------------+--------------------+\n",
            "|-28.046018037776633|(10,[0,1,2,3,4,5,...|\n",
            "|-21.432387764165806|(10,[0,1,2,3,4,5,...|\n",
            "|-20.212077258958672|(10,[0,1,2,3,4,5,...|\n",
            "|-19.872991038068406|(10,[0,1,2,3,4,5,...|\n",
            "| -19.66731861537172|(10,[0,1,2,3,4,5,...|\n",
            "| -15.86200932757056|(10,[0,1,2,3,4,5,...|\n",
            "|-15.732088272239245|(10,[0,1,2,3,4,5,...|\n",
            "| -15.72351561304857|(10,[0,1,2,3,4,5,...|\n",
            "|-15.375857723312297|(10,[0,1,2,3,4,5,...|\n",
            "|-15.359544879832677|(10,[0,1,2,3,4,5,...|\n",
            "|-15.348871155379253|(10,[0,1,2,3,4,5,...|\n",
            "|-14.822152909751189|(10,[0,1,2,3,4,5,...|\n",
            "|-13.039928064104615|(10,[0,1,2,3,4,5,...|\n",
            "| -12.92222310337042|(10,[0,1,2,3,4,5,...|\n",
            "|-12.479280211451497|(10,[0,1,2,3,4,5,...|\n",
            "| -12.46765638103286|(10,[0,1,2,3,4,5,...|\n",
            "| -12.41094640284016|(10,[0,1,2,3,4,5,...|\n",
            "|-12.094351278535258|(10,[0,1,2,3,4,5,...|\n",
            "| -11.43180236554046|(10,[0,1,2,3,4,5,...|\n",
            "|-11.039347808253828|(10,[0,1,2,3,4,5,...|\n",
            "+-------------------+--------------------+\n",
            "only showing top 20 rows\n",
            "\n"
          ]
        }
      ],
      "source": [
        "test_data.show()"
      ]
    },
    {
      "cell_type": "code",
      "execution_count": 15,
      "metadata": {
        "collapsed": true,
        "id": "d2LYaqagUyeS"
      },
      "outputs": [],
      "source": [
        "unlabeled_data = test_data.select('features')"
      ]
    },
    {
      "cell_type": "code",
      "execution_count": 16,
      "metadata": {
        "colab": {
          "base_uri": "https://localhost:8080/"
        },
        "id": "UarpgfSgUyeS",
        "outputId": "a42addfd-19d0-4c4f-ccdf-564faa2b7293"
      },
      "outputs": [
        {
          "output_type": "stream",
          "name": "stdout",
          "text": [
            "+--------------------+\n",
            "|            features|\n",
            "+--------------------+\n",
            "|(10,[0,1,2,3,4,5,...|\n",
            "|(10,[0,1,2,3,4,5,...|\n",
            "|(10,[0,1,2,3,4,5,...|\n",
            "|(10,[0,1,2,3,4,5,...|\n",
            "|(10,[0,1,2,3,4,5,...|\n",
            "|(10,[0,1,2,3,4,5,...|\n",
            "|(10,[0,1,2,3,4,5,...|\n",
            "|(10,[0,1,2,3,4,5,...|\n",
            "|(10,[0,1,2,3,4,5,...|\n",
            "|(10,[0,1,2,3,4,5,...|\n",
            "|(10,[0,1,2,3,4,5,...|\n",
            "|(10,[0,1,2,3,4,5,...|\n",
            "|(10,[0,1,2,3,4,5,...|\n",
            "|(10,[0,1,2,3,4,5,...|\n",
            "|(10,[0,1,2,3,4,5,...|\n",
            "|(10,[0,1,2,3,4,5,...|\n",
            "|(10,[0,1,2,3,4,5,...|\n",
            "|(10,[0,1,2,3,4,5,...|\n",
            "|(10,[0,1,2,3,4,5,...|\n",
            "|(10,[0,1,2,3,4,5,...|\n",
            "+--------------------+\n",
            "only showing top 20 rows\n",
            "\n"
          ]
        }
      ],
      "source": [
        "unlabeled_data.show()"
      ]
    },
    {
      "cell_type": "markdown",
      "metadata": {
        "id": "g4BAI2cJUyeS"
      },
      "source": [
        "Now we only train on the train_data"
      ]
    },
    {
      "cell_type": "code",
      "execution_count": 17,
      "metadata": {
        "collapsed": true,
        "id": "DkTXBW92UyeS"
      },
      "outputs": [],
      "source": [
        "correct_model = lr.fit(train_data)"
      ]
    },
    {
      "cell_type": "markdown",
      "metadata": {
        "id": "YQNF6mdgUyeS"
      },
      "source": [
        "Now we can directly get a .summary object using the evaluate method:"
      ]
    },
    {
      "cell_type": "code",
      "execution_count": 18,
      "metadata": {
        "id": "pKVwJ8oUUyeT"
      },
      "outputs": [],
      "source": [
        "test_results = correct_model.evaluate(test_data)"
      ]
    },
    {
      "cell_type": "code",
      "execution_count": 19,
      "metadata": {
        "colab": {
          "base_uri": "https://localhost:8080/"
        },
        "id": "dBLfKAlcUyeT",
        "outputId": "19994679-3a95-4c9a-d998-7ebd786b3d4d"
      },
      "outputs": [
        {
          "output_type": "stream",
          "name": "stdout",
          "text": [
            "+-------------------+\n",
            "|          residuals|\n",
            "+-------------------+\n",
            "| -25.60769640911606|\n",
            "| -20.77024082631543|\n",
            "| -20.72391694024291|\n",
            "|-19.744856363578105|\n",
            "|-19.539703998437446|\n",
            "|-17.203366635198282|\n",
            "|-15.250619375346858|\n",
            "|-17.888071370046536|\n",
            "|-17.065801964252746|\n",
            "|-16.332303028369466|\n",
            "|  -12.5749783061732|\n",
            "|-14.561224087061788|\n",
            "|-12.737290918940877|\n",
            "|-15.319623103900431|\n",
            "|-10.643396624003651|\n",
            "| -9.599869728511269|\n",
            "|-10.938821965081528|\n",
            "|-12.031415259093702|\n",
            "|-14.020522752761261|\n",
            "| -8.551499474083531|\n",
            "+-------------------+\n",
            "only showing top 20 rows\n",
            "\n",
            "RMSE: 9.955314644800962\n"
          ]
        }
      ],
      "source": [
        "test_results.residuals.show()\n",
        "print(\"RMSE: {}\".format(test_results.rootMeanSquaredError))"
      ]
    },
    {
      "cell_type": "markdown",
      "metadata": {
        "id": "7cpVM7ZZUyeT"
      },
      "source": [
        "Well that is nice, but realistically we will eventually want to test this model against unlabeled data, after all, that is the whole point of building the model in the first place. We can again do this with a convenient method call, in this case, transform(). Which was actually being called within the evaluate() method. Let's see it in action:"
      ]
    },
    {
      "cell_type": "code",
      "execution_count": 20,
      "metadata": {
        "id": "G3Bj4Rl7UyeT"
      },
      "outputs": [],
      "source": [
        "predictions = correct_model.transform(unlabeled_data)"
      ]
    },
    {
      "cell_type": "code",
      "execution_count": 21,
      "metadata": {
        "colab": {
          "base_uri": "https://localhost:8080/"
        },
        "id": "8ZpWRm6SUyeT",
        "outputId": "5a4d2969-379f-4e2c-d21b-54d8ead6393b"
      },
      "outputs": [
        {
          "output_type": "stream",
          "name": "stdout",
          "text": [
            "+--------------------+--------------------+\n",
            "|            features|          prediction|\n",
            "+--------------------+--------------------+\n",
            "|(10,[0,1,2,3,4,5,...|  -2.438321628660576|\n",
            "|(10,[0,1,2,3,4,5,...| -0.6621469378503779|\n",
            "|(10,[0,1,2,3,4,5,...|  0.5118396812842345|\n",
            "|(10,[0,1,2,3,4,5,...|-0.12813467449029992|\n",
            "|(10,[0,1,2,3,4,5,...|-0.12761461693427217|\n",
            "|(10,[0,1,2,3,4,5,...|   1.341357307627724|\n",
            "|(10,[0,1,2,3,4,5,...|-0.48146889689238775|\n",
            "|(10,[0,1,2,3,4,5,...|   2.164555756997965|\n",
            "|(10,[0,1,2,3,4,5,...|  1.6899442409404497|\n",
            "|(10,[0,1,2,3,4,5,...|  0.9727581485367871|\n",
            "|(10,[0,1,2,3,4,5,...| -2.7738928492060535|\n",
            "|(10,[0,1,2,3,4,5,...| -0.2609288226894014|\n",
            "|(10,[0,1,2,3,4,5,...|  -0.302637145163738|\n",
            "|(10,[0,1,2,3,4,5,...|  2.3974000005300113|\n",
            "|(10,[0,1,2,3,4,5,...| -1.8358835874478454|\n",
            "|(10,[0,1,2,3,4,5,...| -2.8677866525215903|\n",
            "|(10,[0,1,2,3,4,5,...| -1.4721244377586322|\n",
            "|(10,[0,1,2,3,4,5,...|-0.06293601944155663|\n",
            "|(10,[0,1,2,3,4,5,...|   2.588720387220801|\n",
            "|(10,[0,1,2,3,4,5,...| -2.4878483341702973|\n",
            "+--------------------+--------------------+\n",
            "only showing top 20 rows\n",
            "\n"
          ]
        }
      ],
      "source": [
        "predictions.show()"
      ]
    },
    {
      "cell_type": "markdown",
      "metadata": {
        "id": "lNWFOpLQUyeT"
      },
      "source": [
        "Okay, so this data is a bit meaningless, so let's explore this same process with some data that actually makes a little more intuitive sense!"
      ]
    }
  ],
  "metadata": {
    "anaconda-cloud": {},
    "kernelspec": {
      "display_name": "Python [conda root]",
      "language": "python",
      "name": "conda-root-py"
    },
    "language_info": {
      "codemirror_mode": {
        "name": "ipython",
        "version": 3
      },
      "file_extension": ".py",
      "mimetype": "text/x-python",
      "name": "python",
      "nbconvert_exporter": "python",
      "pygments_lexer": "ipython3",
      "version": "3.5.3"
    },
    "colab": {
      "provenance": [],
      "include_colab_link": true
    }
  },
  "nbformat": 4,
  "nbformat_minor": 0
}